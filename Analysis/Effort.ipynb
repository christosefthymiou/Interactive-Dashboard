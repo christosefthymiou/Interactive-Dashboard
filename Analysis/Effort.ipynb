{
 "cells": [
  {
   "cell_type": "code",
   "execution_count": 2,
   "id": "7f789cf3",
   "metadata": {},
   "outputs": [],
   "source": [
    "import dash\n",
    "import dash_core_components as dcc\n",
    "import dash_html_components as html\n",
    "import pandas as pd\n",
    "pd.set_option('display.max_columns', None)\n",
    "import plotly.express as px\n",
    "from dash.dependencies import Input, Output\n",
    "df = pd.read_csv('../Data/vgsales.csv')"
   ]
  },
  {
   "cell_type": "code",
   "execution_count": 3,
   "id": "95282a61",
   "metadata": {},
   "outputs": [],
   "source": [
    "figure1 = px.bar(data_frame = df, x = 'Genre', y = 'World Sales')\n",
    "figure2 = px.histogram(data_frame = df, x = 'Genre', y = 'World Sales')\n",
    "figure3 = px.pie(data_frame = df, names = 'Genre', values = 'World Sales')"
   ]
  },
  {
   "cell_type": "code",
   "execution_count": null,
   "id": "f5df9e9d",
   "metadata": {},
   "outputs": [],
   "source": [
    "app = dash.Dash(__name__)\n",
    "app.layout = html.Div([html.H1('Interactive Drop-down Lists'),\n",
    "                       dcc.Dropdown(id = 'genre',\n",
    "                                    options = [{'label': x, 'value': x} for x in sorted(df['Genre'].unique())],\n",
    "                                    style = {'width': '50%'}),\n",
    "                       dcc.Dropdown(id = 'platform',\n",
    "                                    options = [{'label': x, 'value': x} for x in sorted(df['Platform'].unique())],\n",
    "                                    style = {'width': '50%'}),\n",
    "                       dcc.Graph(id = 'graph')])\n",
    "@app.callback(Output(component_id = 'graph', component_property = 'figure'),\n",
    "              Input(component_id = 'genre', component_property = 'value'),\n",
    "              Input(component_id = 'platform', component_property = 'value'))\n",
    "def interactive(value_genre, value_platform):\n",
    "    return px.histogram(data_frame = df[(df['Genre'] == value_genre) & (df['Platform'] == value_platform)],\n",
    "                        x = 'Year',\n",
    "                        y = 'World Sales')\n",
    "if __name__ == '__main__':\n",
    "    app.run_server()"
   ]
  },
  {
   "cell_type": "code",
   "execution_count": null,
   "id": "67e556b6",
   "metadata": {},
   "outputs": [],
   "source": [
    "app = dash.Dash(__name__)\n",
    "app.layout = html.Div([html.H1('Interactive Radio Buttons'),\n",
    "                       dcc.RadioItems(id = 'genre',\n",
    "                           labelStyle = {\"display\": \"inline-block\"},\n",
    "                           value = 'Delaware',\n",
    "                           options = [{'label': x, 'value': x} for x in sorted(df['Genre'].unique())],\n",
    "                           style = {'text-align': 'center'}, className = 'dcc_compon'),\n",
    "                       dcc.RadioItems(id = 'platform',\n",
    "                           labelStyle = {\"display\": \"inline-block\"},\n",
    "                           value = 'Delaware',\n",
    "                           options = [{'label': x, 'value': x} for x in sorted(df['Platform'].unique())],\n",
    "                           style = {'text-align': 'center'}, className = 'dcc_compon'),\n",
    "                       dcc.Graph(id = 'graph')])\n",
    "@app.callback(Output(component_id = 'graph', component_property = 'figure'),\n",
    "              Input(component_id = 'genre', component_property = 'value'),\n",
    "              Input(component_id = 'platform', component_property = 'value'))\n",
    "def interactive(value_genre, value_platform):\n",
    "    return px.histogram(data_frame = df[(df['Genre'] == value_genre) & (df['Platform'] == value_platform)],\n",
    "                        x = 'Year',\n",
    "                        y = 'World Sales')\n",
    "if __name__ == '__main__':\n",
    "    app.run_server()"
   ]
  }
 ],
 "metadata": {
  "kernelspec": {
   "display_name": "Python 3",
   "language": "python",
   "name": "python3"
  },
  "language_info": {
   "codemirror_mode": {
    "name": "ipython",
    "version": 3
   },
   "file_extension": ".py",
   "mimetype": "text/x-python",
   "name": "python",
   "nbconvert_exporter": "python",
   "pygments_lexer": "ipython3",
   "version": "3.7.11"
  }
 },
 "nbformat": 4,
 "nbformat_minor": 5
}
